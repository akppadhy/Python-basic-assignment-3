{
 "cells": [
  {
   "cell_type": "code",
   "execution_count": null,
   "id": "16d664e8-eae2-4c99-8ee6-839cbd899cfa",
   "metadata": {},
   "outputs": [],
   "source": [
    "#Q1. Why are functions advantageous to have in your programs?\n",
    "\n",
    "Ans. Advantages of having functions:\n",
    "Functions reduce the need for duplicate code. This makes programs shorter, easier to read, and easier to update."
   ]
  },
  {
   "cell_type": "code",
   "execution_count": null,
   "id": "6e2ab7fe-a009-4476-bad0-fac13c3f8b53",
   "metadata": {},
   "outputs": [],
   "source": [
    "#Q2. When does the code in a function run:when it's specified or when it's called?\n",
    "\n",
    "Ans. The code in a function executes when the function is called, not when the function is defined."
   ]
  },
  {
   "cell_type": "code",
   "execution_count": null,
   "id": "0c046107-834a-492b-8d64-08642e1dd6d6",
   "metadata": {},
   "outputs": [],
   "source": [
    "#Q3. What statement creates a function?\n",
    "\n",
    "Ans. The def statement defines (i.e. creates) a function.\n",
    "Eg .\n",
    "def my_func():\n",
    "pass"
   ]
  },
  {
   "cell_type": "code",
   "execution_count": null,
   "id": "36bdb129-8c42-4411-afbe-d1e75c0e21e9",
   "metadata": {},
   "outputs": [],
   "source": [
    "#Q4. What is the difference between a function and a function call?\n",
    "\n",
    "Ans. A function consists of the def statement and the code in its def clause. \n",
    "A function call is what moves the program execution into the function, and the function call evaluates to the function's return value."
   ]
  },
  {
   "cell_type": "code",
   "execution_count": null,
   "id": "68a9a7f2-0dcb-4d90-a850-d893b85f4bef",
   "metadata": {},
   "outputs": [],
   "source": [
    "#Q5. How many global scopes are there in a Python program? How many local scopes?\n",
    "\n",
    "Ans .There's only one global Python scope per program execution. This scope remains in existence until the program terminates , \n",
    "and a local scope is created whenever a function is called."
   ]
  },
  {
   "cell_type": "code",
   "execution_count": null,
   "id": "a66545d9-53c2-4797-98b8-06c5cb85fcf2",
   "metadata": {},
   "outputs": [],
   "source": [
    "#Q6. What happens to variables in a local scope when the function call returns?\n",
    "\n",
    "Ans. When a function returns, the local scope is destroyed."
   ]
  },
  {
   "cell_type": "code",
   "execution_count": null,
   "id": "31f67d88-b9ca-49d4-99a6-8a2900613ba5",
   "metadata": {},
   "outputs": [],
   "source": [
    "#Q7. What is the concept of a return value? Is it possible to have a return value in an expression?\n",
    "\n",
    "Ans. A return value is the value that a function call evaluates to. Like any value, a return value can be used as part of an expression."
   ]
  },
  {
   "cell_type": "code",
   "execution_count": null,
   "id": "a650a29c-e096-4da0-b91d-96c9bcffb0d5",
   "metadata": {},
   "outputs": [],
   "source": [
    "#Q8. If a function does not have a return statement, what is the return value of a call to that function?\n",
    "\n",
    "Ans. If the funtion does not have a return statement it will not return anything."
   ]
  },
  {
   "cell_type": "code",
   "execution_count": null,
   "id": "be906de7-f0ef-42c6-8fdc-3d1b27fbbcc1",
   "metadata": {},
   "outputs": [],
   "source": [
    "#Q9. How do you make a function variable refer to the global variable?\n",
    "\n",
    "Ans. To make function variable as a global variable you can use the global keyword to declare which variables are global."
   ]
  },
  {
   "cell_type": "code",
   "execution_count": null,
   "id": "a43197ad-44a3-499e-a4ba-8ffde2f80f15",
   "metadata": {},
   "outputs": [],
   "source": [
    "#Q10. What is the data type of None?\n",
    "\n",
    "Ans . The data type of None is NoneType."
   ]
  },
  {
   "cell_type": "code",
   "execution_count": null,
   "id": "94b0f5a4-62c2-48ac-9ece-9c4af41a002e",
   "metadata": {},
   "outputs": [],
   "source": [
    "#Q11. What does the sentence import areallyourpetsnamederic do?\n",
    "\n",
    "Ans .That import statement imports a module named areallyourpetsnamederic."
   ]
  },
  {
   "cell_type": "code",
   "execution_count": null,
   "id": "6342259b-e8cc-4c31-bde0-b69b0456073c",
   "metadata": {},
   "outputs": [],
   "source": [
    "#Q12. If you had a bacon() feature in a spam module, what would you call it after importing spam?\n",
    "\n",
    "Ans .This function can be called with spam.bacon()."
   ]
  },
  {
   "cell_type": "code",
   "execution_count": null,
   "id": "464597f4-f923-4d05-b841-989c37fb58ed",
   "metadata": {},
   "outputs": [],
   "source": [
    "#Q13. What can you do to save a programme from crashing if it encounters an error?\n",
    "\n",
    "Ans. We can use try except clause to save a program from crashing."
   ]
  },
  {
   "cell_type": "code",
   "execution_count": null,
   "id": "90b350ae-6848-49c8-afdf-ad0db79377b8",
   "metadata": {},
   "outputs": [],
   "source": [
    "#Q14. What is the purpose of the try clause? What is the purpose of the except clause?\n",
    "\n",
    "Ans. The code that could potentially cause an error goes in the try clause.\n",
    "-The code that executes if an error happens goes in the except clause."
   ]
  }
 ],
 "metadata": {
  "kernelspec": {
   "display_name": "Python 3 (ipykernel)",
   "language": "python",
   "name": "python3"
  },
  "language_info": {
   "codemirror_mode": {
    "name": "ipython",
    "version": 3
   },
   "file_extension": ".py",
   "mimetype": "text/x-python",
   "name": "python",
   "nbconvert_exporter": "python",
   "pygments_lexer": "ipython3",
   "version": "3.10.6"
  }
 },
 "nbformat": 4,
 "nbformat_minor": 5
}
